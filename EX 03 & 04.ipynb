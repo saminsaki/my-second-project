{
 "cells": [
  {
   "cell_type": "markdown",
   "id": "d42d80a0",
   "metadata": {},
   "source": [
    "<div style=\"color: white;padding-top:18px;text-align:center;background-color:#257662;border-radius:15px;border: 1px solid white;\"> \n",
    "    <h3>Exercise 3 (score:350)</h3>\n",
    "</div>"
   ]
  },
  {
   "cell_type": "markdown",
   "id": "04d0ebc5",
   "metadata": {},
   "source": [
    "<div style=\"color: white;padding-top:18px;text-align:left;background-color:red;border-radius:15px;border: 1px solid white;\"> \n",
    "    <h4>Question 01 (String):</h4>\n",
    "    <p>Get a string from user and check length of that, if length of string was even\n",
    "show first half of string otherwise print last half of string.\n",
    "</p>\n",
    "</div>"
   ]
  },
  {
   "cell_type": "code",
   "execution_count": 3,
   "id": "409756b1",
   "metadata": {},
   "outputs": [
    {
     "name": "stdin",
     "output_type": "stream",
     "text": [
      "Enter your String:  Mohammadd\n"
     ]
    },
    {
     "name": "stdout",
     "output_type": "stream",
     "text": [
      "Last Half:  mmadd\n"
     ]
    }
   ],
   "source": [
    "# write code here:\n",
    "my_string = input(\"Enter your String: \")\n",
    "\n",
    "string_len = len(my_string)\n",
    "\n",
    "first_half_end = len(my_string)//2\n",
    "\n",
    "last_half_start_point = len(my_string)//2\n",
    "\n",
    "if string_len % 2 == 0:\n",
    "    print(\"First half: \", my_string[0:first_half_end])\n",
    "    \n",
    "elif string_len % 2 == 1:\n",
    "    print(\"Last Half: \", my_string[last_half_start_point:])\n",
    "    "
   ]
  },
  {
   "cell_type": "markdown",
   "id": "743bdbe2",
   "metadata": {},
   "source": [
    "<div style=\"color: white;padding-top:18px;text-align:left;background-color:red;border-radius:15px;border: 1px solid white;\"> \n",
    "    <h4>Question 02 (String)</h4>\n",
    "<p>\n",
    "based on the below text answer to questions.\n",
    "</p>\n",
    "\n",
    "<ul>\n",
    "    <li>\n",
    "        Divide the text into two halves. If length of string is odd, include the middle character in the first half.\n",
    "    </li>\n",
    "    <li>\n",
    "        In the first half of the text, replace all occurrences of the word \"Python\" with \"Java\".\n",
    "    </li>\n",
    "    <li>\n",
    "       In the second half of the text, replace all occurrences of the word \"Python\" with \"C++\" \n",
    "    </li>\n",
    "    <li>\n",
    "        Combine both halves back into a single text and print the modified text\n",
    "    </li>\n",
    "    <li>\n",
    "        How many times was the word \"Python\" replaced in the first half?\n",
    "    </li>\n",
    "    <li>\n",
    "        How many times was the word \"Python\" replaced in the second half?\n",
    "    </li>\n",
    "</ul>\n",
    "\n",
    "<br>\n",
    "<p>Here is the text:</p>\n",
    "\n",
    "<p>\n",
    "    Python is a widely-used programming language known for its simplicity. Python supports various\n",
    "    programming paradigms. Python's code readability makes it a favorite among developers. Python is\n",
    "    ideal for rapidly prototyping applications.\n",
    "</p>\n",
    "\n",
    "</div>"
   ]
  },
  {
   "cell_type": "code",
   "execution_count": 5,
   "id": "9b28e8cd",
   "metadata": {},
   "outputs": [],
   "source": [
    "# write code here:\n",
    "txt = \"Python is a widely-used programming language known for its simplicity. Python supports various programming paradigms. Python's code readability makes it a favorite among developers. Python is ideal for rapidly prototyping applications.\"\n",
    "\n",
    "len_txt = len(txt)\n",
    "\n",
    "middle = len_txt//2\n",
    "\n",
    "if len_txt % 2 == 1:\n",
    "    \n",
    "    first_half = txt[:middle+1]\n",
    "    second_halve = txt[middle+1:]\n",
    "else:\n",
    "    first_halve = txt[:middle]\n",
    "    seond_half = txt[middle:]\n"
   ]
  },
  {
   "cell_type": "code",
   "execution_count": 6,
   "id": "1d57f558",
   "metadata": {},
   "outputs": [
    {
     "name": "stdout",
     "output_type": "stream",
     "text": [
      "Java is a widely-used programming language known for its simplicity. Java supports various programming paradigms. \n"
     ]
    }
   ],
   "source": [
    "# Section 2 :\n",
    "\n",
    "if \"Python\" in first_half:\n",
    "    \n",
    "    first_half = first_half.replace(\"Python\",\"Java\")\n",
    "    print(first_half)\n",
    "else:\n",
    "    print(\"There is No Python in first_half\")\n"
   ]
  },
  {
   "cell_type": "code",
   "execution_count": 7,
   "id": "337888d5",
   "metadata": {},
   "outputs": [
    {
     "name": "stdout",
     "output_type": "stream",
     "text": [
      "C++'s code readability makes it a favorite among developers. C++ is ideal for rapidly prototyping applications.\n"
     ]
    }
   ],
   "source": [
    "# Section 3:\n",
    "\n",
    "if \"Python\" in second_halve:\n",
    "    second_halve = second_halve.replace(\"Python\", \"C++\")\n",
    "    print(second_halve)\n",
    "else:\n",
    "    print(\"There is no python in second_halve\")"
   ]
  },
  {
   "cell_type": "code",
   "execution_count": 8,
   "id": "af677573",
   "metadata": {},
   "outputs": [],
   "source": [
    "# Section 4:\n",
    "final = first_half + second_halve"
   ]
  },
  {
   "cell_type": "code",
   "execution_count": 9,
   "id": "4a1b0da3",
   "metadata": {},
   "outputs": [
    {
     "name": "stdout",
     "output_type": "stream",
     "text": [
      "Java is a widely-used programming language known for its simplicity. Java supports various programming paradigms. C++'s code readability makes it a favorite among developers. C++ is ideal for rapidly prototyping applications.\n"
     ]
    }
   ],
   "source": [
    "print(final)"
   ]
  },
  {
   "cell_type": "code",
   "execution_count": 11,
   "id": "471da221",
   "metadata": {},
   "outputs": [
    {
     "name": "stdout",
     "output_type": "stream",
     "text": [
      "2\n",
      "2\n"
     ]
    }
   ],
   "source": [
    "# Section 5:\n",
    "\n",
    "py_count_first_half = first_half.count(\"Java\")\n",
    "print(py_count_first_half)\n",
    "\n",
    "py_count_second_half = second_halve.count(\"C++\")\n",
    "print(py_count_second_half)"
   ]
  },
  {
   "cell_type": "markdown",
   "id": "b4c1a24c",
   "metadata": {},
   "source": [
    "<div style=\"color: white;padding-top:18px;text-align:left;background-color:red;border-radius:15px;border: 1px solid white;\"> \n",
    "    <h4>Question 03 (String)</h4>\n",
    "<p>Write a program that prompts the user to enter a text. The program should then\n",
    "remove all the spaces from the entered text and display the result.</p>\n",
    "\n",
    "</div>"
   ]
  },
  {
   "cell_type": "code",
   "execution_count": 12,
   "id": "8f1a26f1",
   "metadata": {},
   "outputs": [
    {
     "name": "stdin",
     "output_type": "stream",
     "text": [
      "Enter your String :  Mo H a\n"
     ]
    },
    {
     "name": "stdout",
     "output_type": "stream",
     "text": [
      "MoHa\n"
     ]
    }
   ],
   "source": [
    "# write code here:\n",
    "\n",
    "# Way 1\n",
    "my_string = input(\"Enter your String : \")\n",
    "\n",
    "my_string_without_space = \"\"\n",
    "\n",
    "for i in my_string:\n",
    "    \n",
    "    if i !=\" \":\n",
    "        my_string_without_space += i\n",
    "        \n",
    "print(my_string_without_space)"
   ]
  },
  {
   "cell_type": "code",
   "execution_count": 13,
   "id": "8631b36e",
   "metadata": {},
   "outputs": [
    {
     "name": "stdin",
     "output_type": "stream",
     "text": [
      "Enter your String:  Mo ha\n"
     ]
    },
    {
     "data": {
      "text/plain": [
       "'Moha'"
      ]
     },
     "execution_count": 13,
     "metadata": {},
     "output_type": "execute_result"
    }
   ],
   "source": [
    "# Way 2\n",
    "my_string = input(\"Enter your String: \")\n",
    "my_string.replace(\" \",\"\")"
   ]
  },
  {
   "cell_type": "markdown",
   "id": "50d3f096",
   "metadata": {},
   "source": [
    "<div style=\"color: white;padding-top:18px;text-align:left;background-color:red;border-radius:15px;border: 1px solid white;\"> \n",
    "    <h4>Question 04 (String)</h4>\n",
    "<p>Write a program that prompts the user to enter two strings. if the second\n",
    "string is present in the first string, remove it, otherwise add the second\n",
    "string at the start and end of the first string. Display the new string in the\n",
    "output.</p>\n",
    "\n",
    "</div>"
   ]
  },
  {
   "cell_type": "code",
   "execution_count": 17,
   "id": "a421b24a",
   "metadata": {},
   "outputs": [
    {
     "name": "stdin",
     "output_type": "stream",
     "text": [
      "Enter First String:  MM\n",
      "Enter your Second String: M\n"
     ]
    },
    {
     "name": "stdout",
     "output_type": "stream",
     "text": [
      "\n"
     ]
    }
   ],
   "source": [
    "# write code here: \n",
    "first = input(\"Enter First String: \")\n",
    "second = input(\"Enter your Second String:\")\n",
    "\n",
    "if second in first:\n",
    "    final = first.replace(second,\"\")\n",
    "    print(final)\n",
    "else:\n",
    "    final = second + first + second\n",
    "    print(final)"
   ]
  },
  {
   "cell_type": "markdown",
   "id": "a466e3fc",
   "metadata": {},
   "source": [
    "<div style=\"color: white;padding-top:18px;text-align:left;background-color:red;border-radius:15px;border: 1px solid white;\"> \n",
    "    <h4>Question 05 (String)\n",
    "</h4>\n",
    "<p>Write a program that prompts the user to enter a password. The program\n",
    "should validate the password based on the following criteria:</p>\n",
    "\n",
    "<ul>\n",
    "    <li>The length of the password must be exactly 8 characters.</li>\n",
    "    <li>The first four characters of the password must be letters (alphabets).</li>\n",
    "    <li>The last four characters of the password must be digits (numbers).</li>\n",
    "    <li>If the password meets all the above criteria, the program should display \"Valid\".\n",
    "        Otherwise, it should display \"Invalid\".\n",
    "    </li>\n",
    "</ul>\n",
    "\n",
    "</div>"
   ]
  },
  {
   "cell_type": "code",
   "execution_count": 21,
   "id": "8655c5c7",
   "metadata": {},
   "outputs": [
    {
     "name": "stdin",
     "output_type": "stream",
     "text": [
      "Enter your password:  mm12\n"
     ]
    },
    {
     "name": "stdout",
     "output_type": "stream",
     "text": [
      "Len: 4 \n",
      "part1:  mm \n",
      "part2:  12\n"
     ]
    }
   ],
   "source": [
    "# write code here: \n",
    "\n",
    "password = input(\"Enter your password: \")\n",
    "\n",
    "len_pass = len(password)\n",
    "\n",
    "middle = len_pass//2\n",
    "\n",
    "part1 = password[:middle]\n",
    "part2 = password[middle:]\n",
    "\n",
    "print(\"Len:\",len_pass,\"\\npart1: \",part1,\"\\npart2: \", part2)"
   ]
  },
  {
   "cell_type": "code",
   "execution_count": 22,
   "id": "2bb8d9b5",
   "metadata": {},
   "outputs": [
    {
     "name": "stdout",
     "output_type": "stream",
     "text": [
      "Invalid\n"
     ]
    }
   ],
   "source": [
    "if len_pass == 8 and part1.isalpha() and part2.isdigit():\n",
    "    print(\"Valid\")\n",
    "else:\n",
    "    print(\"Invalid\")"
   ]
  },
  {
   "cell_type": "markdown",
   "id": "35a29a43",
   "metadata": {},
   "source": [
    "<div style=\"color: white;padding-top:18px;text-align:center;background-color:#257662;border-radius:15px;border: 1px solid white;\"> \n",
    "    <h3>Exercise 4 (score:300)</h3>\n",
    "</div>"
   ]
  },
  {
   "cell_type": "markdown",
   "id": "ce51f5fa",
   "metadata": {},
   "source": [
    "<div style=\"color: white;padding-top:18px;text-align:left;background-color:red;border-radius:15px;border: 1px solid white;\"> \n",
    "    <h4>Question 01 (Loop)</h4>\n",
    "<p>Create a program that prompts the user to input a string. The program should\n",
    "then analyze the string to determine the number of alphabetic characters\n",
    "(letters) and the number of numeric characters (digits) contained within it.\n",
    "</p>\n",
    "\n",
    "</div>"
   ]
  },
  {
   "cell_type": "code",
   "execution_count": 1,
   "id": "86148acf",
   "metadata": {},
   "outputs": [
    {
     "name": "stdin",
     "output_type": "stream",
     "text": [
      "Enter your String:  MMMM1234546\n"
     ]
    },
    {
     "name": "stdout",
     "output_type": "stream",
     "text": [
      "Alphabetic :  4\n",
      "Digit:  7\n"
     ]
    }
   ],
   "source": [
    "# Write here:\n",
    "\n",
    "my_string = input(\"Enter your String: \")\n",
    "\n",
    "alpha = 0\n",
    "digit = 0\n",
    "\n",
    "for i in range(len(my_string)):\n",
    "    \n",
    "    if my_string[i].isdigit():\n",
    "        digit += 1 \n",
    "    elif my_string[i].isalpha():\n",
    "        alpha += 1\n",
    "        \n",
    "print(\"Alphabetic : \", alpha)\n",
    "print(\"Digit: \", digit)"
   ]
  },
  {
   "cell_type": "markdown",
   "id": "388cc930",
   "metadata": {},
   "source": [
    "<div style=\"color: white;padding-top:18px;text-align:left;background-color:red;border-radius:15px;border: 1px solid white;\"> \n",
    "    <h4>Question 02 (Loop)</h4>\n",
    "<p>Get five strings from the user using a loop and display each of them that has a\n",
    "length greater than 6.\n",
    "</p>\n",
    "\n",
    "</div>"
   ]
  },
  {
   "cell_type": "code",
   "execution_count": 2,
   "id": "046fcf56",
   "metadata": {},
   "outputs": [
    {
     "name": "stdin",
     "output_type": "stream",
     "text": [
      "Enter String:  asd\n",
      "Enter String:  qeqweqewqewq\n"
     ]
    },
    {
     "name": "stdout",
     "output_type": "stream",
     "text": [
      "\n",
      " qeqweqewqewq length is more than 6\n"
     ]
    },
    {
     "name": "stdin",
     "output_type": "stream",
     "text": [
      "Enter String:  r\n",
      "Enter String:  wqeq\n",
      "Enter String:  tryttyjt\n"
     ]
    },
    {
     "name": "stdout",
     "output_type": "stream",
     "text": [
      "\n",
      " tryttyjt length is more than 6\n"
     ]
    }
   ],
   "source": [
    "# write here:\n",
    "\n",
    "for i in range(5):\n",
    "    my_string = input(\"Enter String: \")\n",
    "    \n",
    "    if len(my_string)>6:\n",
    "        print(f\"\\n {my_string} length is more than 6\")\n",
    "        "
   ]
  },
  {
   "cell_type": "markdown",
   "id": "ab171029",
   "metadata": {},
   "source": [
    "<div style=\"color: white;padding-top:18px;text-align:left;background-color:red;border-radius:15px;border: 1px solid white;\"> \n",
    "    <h4>Question 03 (Loop)</h4>\n",
    "<p>Write a program to analyze the scores of 10 students in a class. You need to\n",
    "collect the name and score (out of 20) for each student. Based on their\n",
    "scores, you need to assign them a level as follows: \n",
    "</p>\n",
    "\n",
    "<ul>\n",
    "    <li>A+ : If the score is between 17 and 20 (inclusive)</li>\n",
    "    <li>A : If the score is between 15 and less than 17</li>\n",
    "    <li>B : If the score is between 10 and less than 15</li>\n",
    "    <li>C : If the score is less than 10</li>\n",
    "</ul>\n",
    "\n",
    "<p>\n",
    "    Your program should display the following:\n",
    "</p>\n",
    "\n",
    "<ul>\n",
    "    <li>The name, score, and level of each student.</li>\n",
    "    <li>The name and score of the student with the highest score.</li>\n",
    "    <li>The name and score of the student with the lowest score.</li>\n",
    "    <li>The average score of the class.</li>\n",
    "    <li>\n",
    "        Make sure to validate the input to ensure that the score is a positive number and less than\n",
    "        or equal to 20.\n",
    "    </li>\n",
    "</ul>\n",
    "\n",
    "</div>"
   ]
  },
  {
   "cell_type": "code",
   "execution_count": 8,
   "id": "6f68b9a3",
   "metadata": {},
   "outputs": [
    {
     "name": "stdin",
     "output_type": "stream",
     "text": [
      "Enter Student name:  Ali\n",
      "Enter tudent Score : 14.5\n"
     ]
    },
    {
     "name": "stdout",
     "output_type": "stream",
     "text": [
      "\n",
      "Name: Ali ---------> Score: 14.5 -----------> Level: B\n",
      "\n"
     ]
    },
    {
     "name": "stdin",
     "output_type": "stream",
     "text": [
      "Enter Student name:  Mohammad\n",
      "Enter tudent Score : 10.5\n"
     ]
    },
    {
     "name": "stdout",
     "output_type": "stream",
     "text": [
      "\n",
      "Name: Mohammad ---------> Score: 10.5 -----------> Level: B\n",
      "\n"
     ]
    },
    {
     "name": "stdin",
     "output_type": "stream",
     "text": [
      "Enter Student name:  Javad\n",
      "Enter tudent Score : 21\n"
     ]
    },
    {
     "name": "stdout",
     "output_type": "stream",
     "text": [
      "You Entered Wrong Number  \n",
      " lowest score : Mohammad ------> Score: 10.5\n",
      " highest score : Ali ------> Score: 14.5\n",
      "avg :  12.5\n"
     ]
    }
   ],
   "source": [
    "# write here:\n",
    "\n",
    "highest_score_name = \"\"\n",
    "highest_score = 0\n",
    "higest_score_change_time = 0\n",
    "\n",
    "lowest_score_name = \"\"\n",
    "lowest_score = 20\n",
    "lowest_score_change_time = 0\n",
    "\n",
    "\n",
    "total_score = 0\n",
    "total_score_change_time = 0\n",
    "\n",
    "\n",
    "\n",
    "n = 3\n",
    "\n",
    "for i in range(n):\n",
    "    \n",
    "    name = input(\"Enter Student name: \")\n",
    "    score = float(input(\"Enter tudent Score :\"))\n",
    "    \n",
    "    if score >= 0 and score<=20:\n",
    "        \n",
    "        if score >= 17:\n",
    "            level = \"A+\"\n",
    "        elif score >=15:\n",
    "            level = \"A\"\n",
    "        elif score >= 10:\n",
    "            level = \"B\"\n",
    "        else:\n",
    "            level = \"C\"\n",
    "            \n",
    "        print(f\"\\nName: {name} ---------> Score: {score} -----------> Level: {level}\\n\")\n",
    "        \n",
    "        total_score += score\n",
    "        total_score_change_time +=1\n",
    "        \n",
    "        \n",
    "        if score > highest_score:\n",
    "            highest_score_name = name \n",
    "            highest_score = score\n",
    "            higest_score_change_time +=1\n",
    "            \n",
    "        if score < lowest_score:\n",
    "            lowest_score_name = name\n",
    "            lowest_score = score \n",
    "            lowest_score_change_time +=1      \n",
    "    else:\n",
    "        print(\"You Entered Wrong Number  \")\n",
    "        n -=1\n",
    "\n",
    "if total_score_change_time > 0:\n",
    "    average_score = total_score / n\n",
    "else:\n",
    "    average_score = \"There is no Scores to calculate Average ! \"\n",
    "\n",
    "\n",
    "if lowest_score_change_time > 0 and higest_score_change_time >0:\n",
    "    \n",
    "    if lowest_score == highest_score:\n",
    "        print(f\"lowest_score and highest_score are same -----> {lowest_score}\")\n",
    "    else:\n",
    "        print(f\" lowest score : {lowest_score_name} ------> Score: {lowest_score}\")\n",
    "        print(f\" highest score : {highest_score_name} ------> Score: {highest_score}\")\n",
    "elif lowest_score_change_time == 0 and highest_score_change_time >0:\n",
    "    \n",
    "    print(f\"Lowest score and highest score are same: {highest_score_name} ----> {highest_score}\")\n",
    "elif lowest_score_change_time > 0 and highest_score_change_time == 0:\n",
    "    print(f\"Lowest score and highest score are same: {lowest_score_name} ----> {lowest_score}\")\n",
    "\n",
    "elif lowest_score_change_time == 0 and highest_score_change_time == 0:\n",
    "    print(\"Highest / Lowest Score: No Correct Score Entered! So There is No Score to show!\")\n",
    "\n",
    "print(\"avg : \",average_score)"
   ]
  },
  {
   "cell_type": "markdown",
   "id": "60706f9f",
   "metadata": {},
   "source": [
    "<div style=\"color: white;padding-top:18px;text-align:left;background-color:red;border-radius:15px;border: 1px solid white;\"> \n",
    "    <h4>Question 04 (Loop)\n",
    "</h4>\n",
    "<p>\n",
    "Write a Python program to iterate through the numbers 1 to 10. For each\n",
    "number, if it is odd, multiply it by 5 and if it is even, add 5 to it. Display each\n",
    "operation as it is performed, and at the end, show the sum of the numbers\n",
    "obtained from the even numbers and the product of the numbers obtained from\n",
    "the odd numbers. Your output should follow the format shown below:\n",
    "\n",
    "</p>\n",
    "<ul>\n",
    "    <li>1 * 5 = 5</li>\n",
    "    <li>2 + 5 = 7</li>\n",
    "    <li>3 * 5 = 15</li>\n",
    "    <li>4 + 5 = 9</li>\n",
    "    <li>5 * 5 = 25</li>\n",
    "    <li>6 + 5 = 11</li>\n",
    "    <li>7 * 5 = 35</li>\n",
    "    <li>8 + 5 = 13</li>\n",
    "    <li>9 * 5 = 45</li>\n",
    "    <li>10 + 5 = 15</li>\n",
    "</ul>\n",
    "\n",
    "</div>"
   ]
  },
  {
   "cell_type": "code",
   "execution_count": 3,
   "id": "7a801992",
   "metadata": {},
   "outputs": [
    {
     "name": "stdout",
     "output_type": "stream",
     "text": [
      "1 * 5 = 5\n",
      "2 + 5 = 7\n",
      "3 * 5 = 15\n",
      "4 + 5 = 9\n",
      "5 * 5 = 25\n",
      "6 + 5 = 11\n",
      "7 * 5 = 35\n",
      "8 + 5 = 13\n",
      "9 * 5 = 45\n",
      "10 + 5 = 15\n",
      "\n",
      " Sum of numbers (odd): 125\n",
      "\n",
      " sum of numbers (even): 55\n"
     ]
    }
   ],
   "source": [
    "# write here:\n",
    "\n",
    "sum_odd = 0\n",
    "sum_even = 0\n",
    "\n",
    "for i in range(1,11):\n",
    "    \n",
    "    if i % 2 == 1:\n",
    "        operation = i * 5\n",
    "        res = f\"{i} * 5 = {operation}\"\n",
    "        sum_odd += operation\n",
    "    elif i % 2 == 0:\n",
    "        operation = i + 5\n",
    "        res = f\"{i} + 5 = {operation}\"\n",
    "        sum_even += operation\n",
    "    print(res)\n",
    "\n",
    "print(f\"\\n Sum of numbers (odd): {sum_odd}\")\n",
    "print(f\"\\n sum of numbers (even): {sum_even}\")"
   ]
  },
  {
   "cell_type": "markdown",
   "id": "aa801934",
   "metadata": {},
   "source": [
    "<h2 style=\"color: blue:; background-color: purple\">Good luck</h2>"
   ]
  }
 ],
 "metadata": {
  "kernelspec": {
   "display_name": "Python 3 (Spyder)",
   "language": "python3",
   "name": "python3"
  },
  "language_info": {
   "codemirror_mode": {
    "name": "ipython",
    "version": 3
   },
   "file_extension": ".py",
   "mimetype": "text/x-python",
   "name": "python",
   "nbconvert_exporter": "python",
   "pygments_lexer": "ipython3",
   "version": "3.10.13"
  }
 },
 "nbformat": 4,
 "nbformat_minor": 5
}
